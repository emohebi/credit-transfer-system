{
 "cells": [
  {
   "cell_type": "code",
   "execution_count": 0,
   "metadata": {
    "application/vnd.databricks.v1+cell": {
     "cellMetadata": {
      "byteLimit": 2048000,
      "rowLimit": 10000
     },
     "inputWidgets": {},
     "nuid": "03c55696-47e8-480d-8100-d3b78740813f",
     "showTitle": false,
     "tableResultSettingsMap": {},
     "title": ""
    }
   },
   "outputs": [],
   "source": [
    "%run ./EnvPrep"
   ]
  },
  {
   "cell_type": "code",
   "execution_count": 0,
   "metadata": {
    "application/vnd.databricks.v1+cell": {
     "cellMetadata": {
      "byteLimit": 2048000,
      "rowLimit": 10000
     },
     "inputWidgets": {},
     "nuid": "f009e0e8-e5e7-4d37-817f-826c5b9288fd",
     "showTitle": false,
     "tableResultSettingsMap": {},
     "title": ""
    }
   },
   "outputs": [],
   "source": [
    "%load_ext autoreload\n",
    "%autoreload 2"
   ]
  },
  {
   "cell_type": "code",
   "execution_count": 0,
   "metadata": {
    "application/vnd.databricks.v1+cell": {
     "cellMetadata": {
      "byteLimit": 2048000,
      "rowLimit": 10000
     },
     "inputWidgets": {},
     "nuid": "d0f987e2-a9be-477b-8e54-a1c7e578c3b7",
     "showTitle": false,
     "tableResultSettingsMap": {},
     "title": ""
    }
   },
   "outputs": [],
   "source": [
    "import argparse\n",
    "import logging\n",
    "import sys\n",
    "import time\n",
    "from pathlib import Path\n",
    "from importlib import reload\n",
    "# import analysis.simplified_analyzer as simple_analyzer\n",
    "# reload(simple_analyzer)\n",
    "from config import Config\n",
    "from config_profiles import ConfigProfiles\n",
    "from interfaces.model_factory import ModelFactory\n",
    "from analysis.simplified_analyzer import SimplifiedAnalyzer\n",
    "from utils.quality_monitor import QualityMonitor\n",
    "from reporting.report_generator import ReportGenerator\n",
    "from models.base_models import VETQualification, UniQualification, UnitOfCompetency, UniCourse\n",
    "import json\n",
    "# Configure logging\n",
    "logging.basicConfig(\n",
    "    level=getattr(logging, Config.LOG_LEVEL),\n",
    "    format=Config.LOG_FORMAT,\n",
    "    handlers=[\n",
    "        logging.FileHandler(Config.LOG_FILE),\n",
    "        logging.StreamHandler()\n",
    "    ]\n",
    ")\n",
    "logger = logging.getLogger(__name__)\n",
    "# Silence Py4J logs while keeping your app logs at INFO\n",
    "logging.getLogger(\"py4j\").setLevel(logging.WARNING)\n",
    "logging.getLogger(\"py4j.clientserver\").setLevel(logging.WARNING)\n",
    "logging.getLogger(\"py4j.java_gateway\").setLevel(logging.WARNING)\n",
    "\n",
    "def load_vet_data(filepath: str) -> VETQualification:\n",
    "    \"\"\"Load VET qualification data\"\"\"\n",
    "    with open(filepath, 'r') as f:\n",
    "        data = json.load(f)\n",
    "    \n",
    "    vet_qual = VETQualification(\n",
    "        code=data[\"code\"],\n",
    "        name=data[\"name\"],\n",
    "        level=data[\"level\"]\n",
    "    )\n",
    "    \n",
    "    for unit_data in data.get(\"units\", []):\n",
    "        unit = UnitOfCompetency(\n",
    "            code=unit_data[\"code\"],\n",
    "            name=unit_data[\"name\"],\n",
    "            description=unit_data.get(\"description\", \"\"),\n",
    "            learning_outcomes=unit_data.get(\"learning_outcomes\", []),\n",
    "            assessment_requirements=unit_data.get(\"assessment_requirements\", \"\"),\n",
    "            nominal_hours=unit_data.get(\"nominal_hours\", 0) if unit_data.get(\"nominal_hours\") is not None else 0,  # Default to 0 instead of None\n",
    "            prerequisites=unit_data.get(\"prerequisites\", [])\n",
    "        )\n",
    "        vet_qual.units.append(unit)\n",
    "    \n",
    "    return vet_qual\n",
    "\n",
    "\n",
    "def load_uni_data(filepath: str) -> UniQualification:\n",
    "    \"\"\"Load university qualification data\"\"\"\n",
    "    with open(filepath, 'r') as f:\n",
    "        data = json.load(f)\n",
    "    \n",
    "    uni_qual = UniQualification(\n",
    "        code=data[\"code\"],\n",
    "        name=data[\"name\"]\n",
    "    )\n",
    "    \n",
    "    for course_data in data.get(\"courses\", []):\n",
    "        course = UniCourse(\n",
    "            code=course_data[\"code\"],\n",
    "            name=course_data[\"name\"],\n",
    "            description=course_data.get(\"description\", \"\"),\n",
    "            study_level=course_data.get(\"study_level\", \"intermediate\"),\n",
    "            learning_outcomes=course_data.get(\"learning_outcomes\", []),\n",
    "            prerequisites=course_data.get(\"prerequisites\", []),\n",
    "            credit_points=course_data.get(\"credit_points\", 0),\n",
    "            topics=course_data.get(\"topics\", []),\n",
    "            assessment=course_data.get(\"assessment\", \"\")\n",
    "        )\n",
    "        uni_qual.courses.append(course)\n",
    "    \n",
    "    return uni_qual"
   ]
  },
  {
   "cell_type": "code",
   "execution_count": 0,
   "metadata": {
    "application/vnd.databricks.v1+cell": {
     "cellMetadata": {
      "byteLimit": 2048000,
      "rowLimit": 10000
     },
     "inputWidgets": {},
     "nuid": "9b5d978b-1a4e-4e5c-a077-18e454eabea6",
     "showTitle": false,
     "tableResultSettingsMap": {},
     "title": ""
    }
   },
   "outputs": [],
   "source": [
    "\n",
    "depth = 'quick'\n",
    "profile='robust'\n",
    "\n",
    "extract_skills = True\n",
    "skip_analysis = extract_skills\n",
    "use_cached_skills = True\n",
    "verbose = True  # Set to True for detailed config output\n",
    "config = ConfigProfiles.create_config(\n",
    "    profile_name=profile,\n",
    "    backend='vllm',\n",
    "    embedding='jina' # Add embedding selection\n",
    ")\n",
    "\n",
    "verbose = True  # Set to True for detailed config output\n",
    "if verbose:\n",
    "    config.print_config()\n",
    "\n",
    "logger.info(f\"Using profile: {profile}\")\n",
    "logger.info(f\"Using backend: {config.get_model_info()}\")\n",
    "logger.info(f\"Analysis depth: {depth}\")\n",
    "\n",
    "# Initialize quality monitor\n",
    "# monitor = QualityMonitor() if args.monitor else None\n",
    "# vet_file = \"./data/diploma_of_business.json\"\n",
    "# uni_file = \"./data/933AA_Diploma_of_Business.json\"\n",
    "parent_dir = Path(\"/Volumes/jsa_external_prod/external_vols/scratch/Scratch/Ehsan/NST/MiniProjOct25\")\n",
    "vet_file = parent_dir / \"data/HLT54121_Diploma_of_Nursing.json\"\n",
    "uni_file = parent_dir / \"data/364JA_Bachelor_of_Nursing.json\"\n",
    "\n",
    "# vet_file = parent_dir / \"data/BSB50120_Diploma_of_Business.json\"\n",
    "# uni_file = parent_dir / \"data/933AA_Diploma_of_Business.json\"\n",
    "\n",
    "logger.info(\"Loading qualifications...\")\n",
    "vet_qual = load_vet_data(vet_file)\n",
    "uni_qual = load_uni_data(uni_file)\n",
    "\n",
    "logger.info(f\"Loaded VET: {vet_qual.name} ({len(vet_qual.units)} units)\")\n",
    "logger.info(f\"Loaded Uni: {uni_qual.name} ({len(uni_qual.courses)} courses)\")"
   ]
  },
  {
   "cell_type": "code",
   "execution_count": 0,
   "metadata": {
    "application/vnd.databricks.v1+cell": {
     "cellMetadata": {
      "byteLimit": 2048000,
      "rowLimit": 10000
     },
     "inputWidgets": {},
     "nuid": "733c8bd1-4e09-4a7e-b884-e4b40379cb6b",
     "showTitle": false,
     "tableResultSettingsMap": {},
     "title": ""
    }
   },
   "outputs": [],
   "source": [
    "# Create embedding interface\n",
    "embeddings = ModelFactory.create_embedding_interface(config)\n",
    "\n",
    "if embeddings is None:\n",
    "    logger.warning(\"No embedding interface available - using simple matching\")"
   ]
  },
  {
   "cell_type": "code",
   "execution_count": 0,
   "metadata": {
    "application/vnd.databricks.v1+cell": {
     "cellMetadata": {
      "byteLimit": 2048000,
      "rowLimit": 10000
     },
     "inputWidgets": {},
     "nuid": "bb196c93-5ef2-47cf-ad57-271df186eb8c",
     "showTitle": false,
     "tableResultSettingsMap": {},
     "title": ""
    }
   },
   "outputs": [],
   "source": [
    "# Create interfaces using factory\n",
    "logger.info(\"Initializing AI interfaces...\")\n",
    "genai = ModelFactory.create_genai_interface(config)\n",
    "if genai is None:\n",
    "    logger.warning(\"No GenAI interface available - using fallback extraction\")\n",
    "\n"
   ]
  },
  {
   "cell_type": "code",
   "execution_count": 0,
   "metadata": {
    "application/vnd.databricks.v1+cell": {
     "cellMetadata": {
      "byteLimit": 2048000,
      "rowLimit": 10000
     },
     "inputWidgets": {},
     "nuid": "4eec375d-5db0-46c5-a1ff-1d8a6fdf7cc1",
     "showTitle": false,
     "tableResultSettingsMap": {},
     "title": ""
    }
   },
   "outputs": [],
   "source": [
    "from utils.skill_recalibration import SkillRecalibrationTool\n",
    "\n",
    "tool = SkillRecalibrationTool(genai=genai, config=config)\n",
    "tool.recalibrate_vet_skills(vet_qual, recalibrate_levels=True, recalibrate_categories=True, recalibrate_contexts=True)\n",
    "tool.recalibrate_uni_skills(uni_qual, recalibrate_levels=True, recalibrate_categories=True, recalibrate_contexts=True)"
   ]
  },
  {
   "cell_type": "code",
   "execution_count": 0,
   "metadata": {
    "application/vnd.databricks.v1+cell": {
     "cellMetadata": {
      "byteLimit": 2048000,
      "rowLimit": 10000
     },
     "inputWidgets": {},
     "nuid": "4e32645f-541c-4218-9ad9-a02c4e35e80e",
     "showTitle": false,
     "tableResultSettingsMap": {},
     "title": ""
    }
   },
   "outputs": [],
   "source": [
    "if extract_skills:\n",
    "    logger.info(\"Extracting and saving skills...\")\n",
    "    from extract_skills import extract_and_save_skills\n",
    "    vet_filepath, uni_filepath = extract_and_save_skills(\n",
    "        genai, embeddings, config,\n",
    "        vet_file, \n",
    "        uni_file\n",
    "    )\n",
    "    logger.info(f\"Skills saved to {vet_filepath} and {uni_filepath}\")\n",
    "    \n",
    "    if skip_analysis:\n",
    "        logger.info(\"Skipping analysis as requested\")"
   ]
  },
  {
   "cell_type": "code",
   "execution_count": 0,
   "metadata": {
    "application/vnd.databricks.v1+cell": {
     "cellMetadata": {
      "byteLimit": 2048000,
      "rowLimit": 10000
     },
     "inputWidgets": {},
     "nuid": "dffbff3e-40a6-436c-b899-a62dd5c1aa87",
     "showTitle": false,
     "tableResultSettingsMap": {},
     "title": ""
    }
   },
   "outputs": [],
   "source": [
    "analyzer = SimplifiedAnalyzer(\n",
    "    genai=genai,\n",
    "    embeddings=embeddings,\n",
    "    config=config.to_dict()\n",
    ")\n",
    "recommendations = analyzer.analyze(\n",
    "    vet_qual,\n",
    "    uni_qual,\n",
    "    depth=depth,\n",
    "    use_cached_skills=use_cached_skills\n",
    ")\n",
    "logger.info(f\"Generated {len(recommendations)} recommendations\")"
   ]
  },
  {
   "cell_type": "code",
   "execution_count": 0,
   "metadata": {
    "application/vnd.databricks.v1+cell": {
     "cellMetadata": {
      "byteLimit": 2048000,
      "rowLimit": 10000
     },
     "inputWidgets": {},
     "nuid": "ecbf4bfa-de92-42ba-8a7b-53b1e591d554",
     "showTitle": false,
     "tableResultSettingsMap": {},
     "title": ""
    }
   },
   "outputs": [],
   "source": [
    "\n",
    "logger.info(f\"Generated {len(recommendations)} recommendations\")\n",
    "# Save results\n",
    "output_path = Path(\"./output/recommendations.json\")\n",
    "output_path.parent.mkdir(exist_ok=True)\n",
    "\n",
    "# Add backend info to output\n",
    "analyzer.export_results(recommendations, str(output_path))\n",
    "\n",
    "# Generate report\n",
    "report_gen = ReportGenerator()\n",
    "html_path = output_path.with_suffix('.html')\n",
    "\n",
    "# Generate enhanced HTML report\n",
    "html_content = report_gen.generate_html_report(\n",
    "    recommendations, vet_qual, uni_qual\n",
    ")\n",
    "\n",
    "with open(html_path, 'w') as f:\n",
    "    f.write(html_content)\n",
    "\n",
    "logger.info(f\"HTML report saved to {html_path}\")\n",
    "\n",
    "logger.info(\"Exporting extracted skills...\")\n",
    "\n",
    "# Generate complete report package including skills\n",
    "files = report_gen.generate_complete_report_package(\n",
    "    recommendations, vet_qual, uni_qual\n",
    ")\n",
    "\n",
    "logger.info(\"Report package generated:\")\n",
    "for file_type, filepath in files.items():\n",
    "    logger.info(f\"  {file_type}: {filepath}\")\n",
    "\n",
    "print(\"\\n\" + \"=\"*60)\n",
    "print(\"ANALYSIS COMPLETE\")\n",
    "print(\"=\"*60)\n",
    "print(f\"Backend: {config.get_model_info()}\")\n",
    "print(f\"Profile: {profile}\")\n",
    "print(f\"Depth: {depth}\")\n",
    "# print(f\"Time: {analysis_time:.2f} seconds\")\n",
    "print(f\"Recommendations: {len(recommendations)}\")\n",
    "\n",
    "\n",
    "# Show top recommendations\n",
    "if recommendations:\n",
    "    print(\"\\nTop Recommendations:\")\n",
    "    for i, rec in enumerate(sorted(recommendations, \n",
    "                                    key=lambda x: x.alignment_score, \n",
    "                                    reverse=True)[:5], 1):\n",
    "        print(f\"{i}. {' + '.join(rec.get_vet_unit_codes())} → {rec.uni_course.code}\")\n",
    "        print(f\"   Score: {rec.alignment_score:.1%} | Type: {rec.recommendation.value}\")\n",
    "\n",
    "print(f\"\\nResults saved to: {output_path}\")"
   ]
  },
  {
   "cell_type": "code",
   "execution_count": 0,
   "metadata": {
    "application/vnd.databricks.v1+cell": {
     "cellMetadata": {
      "byteLimit": 2048000,
      "rowLimit": 10000
     },
     "inputWidgets": {},
     "nuid": "85c3700d-5cf2-4b57-9477-9fa7720afac0",
     "showTitle": false,
     "tableResultSettingsMap": {},
     "title": ""
    }
   },
   "outputs": [],
   "source": [
    "print('test')"
   ]
  },
  {
   "cell_type": "code",
   "execution_count": 0,
   "metadata": {
    "application/vnd.databricks.v1+cell": {
     "cellMetadata": {},
     "inputWidgets": {},
     "nuid": "8a08cc7c-d262-444d-b6da-63711579eb89",
     "showTitle": false,
     "tableResultSettingsMap": {},
     "title": ""
    }
   },
   "outputs": [],
   "source": []
  }
 ],
 "metadata": {
  "application/vnd.databricks.v1+notebook": {
   "computePreferences": null,
   "dashboards": [],
   "environmentMetadata": {
    "base_environment": "",
    "environment_version": "3"
   },
   "inputWidgetPreferences": null,
   "language": "python",
   "notebookMetadata": {
    "pythonIndentUnit": 4
   },
   "notebookName": "Test",
   "widgets": {}
  },
  "language_info": {
   "name": "python"
  }
 },
 "nbformat": 4,
 "nbformat_minor": 0
}
