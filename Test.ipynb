{
 "cells": [
  {
   "cell_type": "code",
   "execution_count": 0,
   "metadata": {
    "application/vnd.databricks.v1+cell": {
     "cellMetadata": {
      "byteLimit": 2048000,
      "rowLimit": 10000
     },
     "inputWidgets": {},
     "nuid": "03c55696-47e8-480d-8100-d3b78740813f",
     "showTitle": false,
     "tableResultSettingsMap": {},
     "title": ""
    }
   },
   "outputs": [],
   "source": [
    "%run ./EnvPrep"
   ]
  },
  {
   "cell_type": "code",
   "execution_count": 0,
   "metadata": {
    "application/vnd.databricks.v1+cell": {
     "cellMetadata": {
      "byteLimit": 2048000,
      "rowLimit": 10000
     },
     "inputWidgets": {},
     "nuid": "a8c6d4fb-372b-408e-9386-485b04151988",
     "showTitle": false,
     "tableResultSettingsMap": {},
     "title": ""
    }
   },
   "outputs": [],
   "source": [
    "import argparse\n",
    "import json\n",
    "import logging\n",
    "import sys\n",
    "from pathlib import Path\n",
    "from typing import List, Optional\n",
    "\n",
    "from config import Config\n",
    "from models.base_models import VETQualification, UniQualification, UnitOfCompetency, UniCourse\n",
    "from interfaces.genai_interface import GenAIInterface\n",
    "from interfaces.embedding_interface import EmbeddingInterface\n",
    "from analysis.analyzer import CreditTransferAnalyzer\n",
    "from reporting.report_generator import ReportGenerator"
   ]
  },
  {
   "cell_type": "code",
   "execution_count": 0,
   "metadata": {
    "application/vnd.databricks.v1+cell": {
     "cellMetadata": {
      "byteLimit": 2048000,
      "rowLimit": 10000
     },
     "inputWidgets": {},
     "nuid": "f1c2faf1-390e-4eac-83c7-1f6e2cb945f8",
     "showTitle": false,
     "tableResultSettingsMap": {},
     "title": ""
    }
   },
   "outputs": [],
   "source": [
    "\n",
    "# Configure logging\n",
    "logging.basicConfig(\n",
    "    level=getattr(logging, Config.LOG_LEVEL),\n",
    "    format=Config.LOG_FORMAT,\n",
    "    handlers=[\n",
    "        logging.FileHandler(Config.LOG_FILE),\n",
    "        logging.StreamHandler()\n",
    "    ]\n",
    ")\n",
    "logger = logging.getLogger(__name__)\n",
    "# Silence Py4J logs while keeping your app logs at INFO\n",
    "logging.getLogger(\"py4j\").setLevel(logging.WARNING)\n",
    "logging.getLogger(\"py4j.clientserver\").setLevel(logging.WARNING)\n",
    "logging.getLogger(\"py4j.java_gateway\").setLevel(logging.WARNING)\n",
    "\n",
    "\n",
    "def load_vet_data(filepath: str) -> VETQualification:\n",
    "    \"\"\"\n",
    "    Load VET qualification data from JSON file\n",
    "    \n",
    "    Expected format:\n",
    "    {\n",
    "        \"code\": \"ICT50220\",\n",
    "        \"name\": \"Diploma of Information Technology\",\n",
    "        \"level\": \"Diploma\",\n",
    "        \"units\": [\n",
    "            {\n",
    "                \"code\": \"ICTICT517\",\n",
    "                \"name\": \"Match IT needs with the strategic direction\",\n",
    "                \"description\": \"...\",\n",
    "                \"learning_outcomes\": [...],\n",
    "                \"assessment_requirements\": \"...\",\n",
    "                \"nominal_hours\": 60,\n",
    "                \"prerequisites\": []\n",
    "            }\n",
    "        ]\n",
    "    }\n",
    "    \"\"\"\n",
    "    with open(filepath, 'r') as f:\n",
    "        data = json.load(f)\n",
    "\n",
    "    vet_qual = VETQualification(\n",
    "        code=data[\"code\"],\n",
    "        name=data[\"name\"],\n",
    "        level=data[\"level\"]\n",
    "    )\n",
    "    \n",
    "    for unit_data in data.get(\"units\", []):\n",
    "        unit = UnitOfCompetency(\n",
    "            code=unit_data[\"code\"],\n",
    "            name=unit_data[\"name\"],\n",
    "            description=unit_data.get(\"description\", \"\"),\n",
    "            learning_outcomes=unit_data.get(\"learning_outcomes\", []),\n",
    "            assessment_requirements=unit_data.get(\"assessment_requirements\", \"\"),\n",
    "            nominal_hours=unit_data.get(\"nominal_hours\", 0),\n",
    "            prerequisites=unit_data.get(\"prerequisites\", [])\n",
    "        )\n",
    "        vet_qual.units.append(unit)\n",
    "    \n",
    "    logger.info(f\"Loaded VET qualification: {vet_qual.code} with {len(vet_qual.units)} units\")\n",
    "    return vet_qual\n",
    "\n",
    "\n",
    "def load_uni_data(filepath: str) -> UniQualification:\n",
    "    \"\"\"\n",
    "    Load university qualification data from JSON file\n",
    "    \n",
    "    Expected format:\n",
    "    {\n",
    "        \"code\": \"BIT\",\n",
    "        \"name\": \"Bachelor of Information Technology\",\n",
    "        \"courses\": [\n",
    "            {\n",
    "                \"code\": \"COMP1234\",\n",
    "                \"name\": \"Introduction to Programming\",\n",
    "                \"description\": \"...\",\n",
    "                \"study_level\": \"introductory\",\n",
    "                \"learning_outcomes\": [...],\n",
    "                \"prerequisites\": [],\n",
    "                \"credit_points\": 6,\n",
    "                \"topics\": [...],\n",
    "                \"assessment\": \"...\"\n",
    "            }\n",
    "        ]\n",
    "    }\n",
    "    \"\"\"\n",
    "    with open(filepath, 'r') as f:\n",
    "        data = json.load(f)\n",
    "    \n",
    "    uni_qual = UniQualification(\n",
    "        code=data[\"code\"],\n",
    "        name=data[\"name\"]\n",
    "    )\n",
    "    \n",
    "    for course_data in data.get(\"courses\", []):\n",
    "        course = UniCourse(\n",
    "            code=course_data[\"code\"],\n",
    "            name=course_data[\"name\"],\n",
    "            description=course_data.get(\"description\", \"\"),\n",
    "            study_level=course_data.get(\"study_level\", \"intermediate\"),  # Default to intermediate\n",
    "            learning_outcomes=course_data.get(\"learning_outcomes\", []),\n",
    "            prerequisites=course_data.get(\"prerequisites\", []),\n",
    "            credit_points=course_data.get(\"credit_points\", 0),\n",
    "            topics=course_data.get(\"topics\", []),\n",
    "            assessment=course_data.get(\"assessment\", \"\")\n",
    "        )\n",
    "        uni_qual.courses.append(course)\n",
    "    \n",
    "    logger.info(f\"Loaded university qualification: {uni_qual.code} with {len(uni_qual.courses)} courses\")\n",
    "    return uni_qual"
   ]
  },
  {
   "cell_type": "code",
   "execution_count": 0,
   "metadata": {
    "application/vnd.databricks.v1+cell": {
     "cellMetadata": {
      "byteLimit": 2048000,
      "rowLimit": 10000
     },
     "inputWidgets": {},
     "nuid": "ba8bbdaf-7d93-4d75-9664-7de437f35252",
     "showTitle": false,
     "tableResultSettingsMap": {},
     "title": ""
    }
   },
   "outputs": [],
   "source": [
    "def initialize_interfaces():\n",
    "    \"\"\"Initialize GenAI and Embedding interfaces\"\"\"\n",
    "    genai = None\n",
    "    embeddings = None\n",
    "    \n",
    "    # Initialize GenAI - prefer vLLM over web API\n",
    "    if Config.USE_VLLM:\n",
    "        try:\n",
    "            from interfaces.vllm_genai_interface import VLLMGenAIInterface\n",
    "            genai = VLLMGenAIInterface(\n",
    "                model_name=Config.VLLM_MODEL_NAME,\n",
    "                number_gpus=Config.VLLM_NUM_GPUS,\n",
    "                max_model_len=Config.VLLM_MAX_MODEL_LEN,\n",
    "                model_cache_dir=Config.MODEL_CACHE_DIR,\n",
    "                external_model_dir=Config.EXTERNAL_MODEL_DIR\n",
    "            )\n",
    "            logger.info(f\"vLLM GenAI interface initialized with model: {Config.VLLM_MODEL_NAME}\")\n",
    "        except Exception as e:\n",
    "            logger.warning(f\"Failed to initialize vLLM GenAI interface: {e}\")\n",
    "            # Fall back to web API if available\n",
    "            if Config.USE_GENAI:\n",
    "                try:\n",
    "                    from interfaces.genai_interface import GenAIInterface\n",
    "                    genai = GenAIInterface(\n",
    "                        model_endpoint=Config.GENAI_ENDPOINT,\n",
    "                        api_key=Config.GENAI_API_KEY,\n",
    "                        timeout=Config.GENAI_TIMEOUT\n",
    "                    )\n",
    "                    logger.info(\"Fell back to web API GenAI interface\")\n",
    "                except Exception as e2:\n",
    "                    logger.warning(f\"Failed to initialize web API GenAI interface: {e2}\")\n",
    "    elif Config.USE_GENAI:\n",
    "        try:\n",
    "            from interfaces.genai_interface import GenAIInterface\n",
    "            genai = GenAIInterface(\n",
    "                model_endpoint=Config.GENAI_ENDPOINT,\n",
    "                api_key=Config.GENAI_API_KEY,\n",
    "                timeout=Config.GENAI_TIMEOUT\n",
    "            )\n",
    "            logger.info(\"Web API GenAI interface initialized\")\n",
    "        except Exception as e:\n",
    "            logger.warning(f\"Failed to initialize GenAI interface: {e}\")\n",
    "    \n",
    "    # Initialize Embeddings\n",
    "    try:\n",
    "        embeddings = EmbeddingInterface(\n",
    "            model_name=Config.EMBEDDING_MODEL_NAME,\n",
    "            model_cache_dir= \"/root/.cache/huggingface/hub\",\n",
    "            external_model_dir= \"/Volumes/jsa_external_prod/external_vols/scratch/Scratch/Ehsan/Models\",\n",
    "            device= \"cuda:1\",\n",
    "            batch_size= 32\n",
    "        )\n",
    "        logger.info(\"Embedding interface initialized\")\n",
    "    except Exception as e:\n",
    "        logger.warning(f\"Failed to initialize Embedding interface: {e}\")\n",
    "    \n",
    "    return genai, embeddings"
   ]
  },
  {
   "cell_type": "code",
   "execution_count": 0,
   "metadata": {
    "application/vnd.databricks.v1+cell": {
     "cellMetadata": {
      "byteLimit": 2048000,
      "rowLimit": 10000
     },
     "inputWidgets": {},
     "nuid": "8aa70ff5-30a0-4cb3-9c95-6d91d3a02ff0",
     "showTitle": false,
     "tableResultSettingsMap": {},
     "title": ""
    }
   },
   "outputs": [],
   "source": [
    "logger.info(\"Starting credit transfer analysis\")\n",
    "vet_file = \"./data/sample_vet.json\"\n",
    "uni_file = \"./data/sample_uni.json\"   \n",
    "    # Load data\n",
    "vet_qual = load_vet_data(vet_file)\n",
    "uni_qual = load_uni_data(uni_file)"
   ]
  },
  {
   "cell_type": "code",
   "execution_count": 0,
   "metadata": {
    "application/vnd.databricks.v1+cell": {
     "cellMetadata": {
      "byteLimit": 2048000,
      "rowLimit": 10000
     },
     "inputWidgets": {},
     "nuid": "87f39f35-4295-4017-99a5-3f71eb0dfd91",
     "showTitle": false,
     "tableResultSettingsMap": {},
     "title": ""
    }
   },
   "outputs": [],
   "source": [
    "genai, embeddings = initialize_interfaces()"
   ]
  },
  {
   "cell_type": "code",
   "execution_count": 0,
   "metadata": {
    "application/vnd.databricks.v1+cell": {
     "cellMetadata": {
      "byteLimit": 2048000,
      "rowLimit": 10000
     },
     "inputWidgets": {},
     "nuid": "d44a4786-98b1-4b45-af0a-abcafdd8e684",
     "showTitle": false,
     "tableResultSettingsMap": {},
     "title": ""
    }
   },
   "outputs": [],
   "source": [
    "analyzer = CreditTransferAnalyzer(\n",
    "        genai=genai,\n",
    "        embeddings=embeddings,\n",
    "        config=Config.get_config_dict()\n",
    "    )\n",
    "    \n",
    "# Perform analysis\n",
    "logger.info(\"Performing credit transfer analysis...\")\n",
    "recommendations = analyzer.analyze_transfer(\n",
    "    vet_qual=vet_qual,\n",
    "    uni_qual=uni_qual,\n",
    "    target_courses=None\n",
    ")"
   ]
  },
  {
   "cell_type": "code",
   "execution_count": 0,
   "metadata": {
    "application/vnd.databricks.v1+cell": {
     "cellMetadata": {},
     "inputWidgets": {},
     "nuid": "ac481efc-6aa8-4d00-a7ae-81ae43887276",
     "showTitle": false,
     "tableResultSettingsMap": {},
     "title": ""
    }
   },
   "outputs": [],
   "source": []
  }
 ],
 "metadata": {
  "application/vnd.databricks.v1+notebook": {
   "computePreferences": null,
   "dashboards": [],
   "environmentMetadata": {
    "base_environment": "",
    "environment_version": "3"
   },
   "inputWidgetPreferences": null,
   "language": "python",
   "notebookMetadata": {
    "pythonIndentUnit": 4
   },
   "notebookName": "Test",
   "widgets": {}
  },
  "language_info": {
   "name": "python"
  }
 },
 "nbformat": 4,
 "nbformat_minor": 0
}
